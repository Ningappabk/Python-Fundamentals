{
 "cells": [
  {
   "cell_type": "code",
   "execution_count": null,
   "id": "6be38802",
   "metadata": {},
   "outputs": [],
   "source": [
    "Variable:\n",
    "    variable represents a value. variable is like a box where we store the value.\n",
    "eaxmple :\n",
    "    \n",
    "    x = 2\n",
    " In above example, X is a variable name and it represents 2.\n",
    " \n",
    "Variable Rules:\n",
    "\n",
    "1. variable cannot start with unserscore or number. \n",
    "2. variable cannot caontain special characters.\n",
    "3 variables should not contain python's keywords.\n",
    "4. Variable should not conatin space.\n",
    "    "
   ]
  },
  {
   "cell_type": "code",
   "execution_count": null,
   "id": "6142e8c6",
   "metadata": {},
   "outputs": [],
   "source": [
    "Data types in python:\n",
    "1. strings (str)\n",
    "2. Integer (int)\n",
    "3. Float \n",
    "4. list\n",
    "5.tupple\n",
    "6. disctionary \n",
    "    "
   ]
  },
  {
   "cell_type": "code",
   "execution_count": null,
   "id": "102d1a59",
   "metadata": {},
   "outputs": [],
   "source": [
    "classification of data types \n",
    "\n",
    "1.immutable data types  --> cannot edit or alter\n",
    "2. mutable data typs --> can edit or alter"
   ]
  },
  {
   "cell_type": "code",
   "execution_count": 4,
   "id": "ce9da465",
   "metadata": {},
   "outputs": [
    {
     "name": "stdout",
     "output_type": "stream",
     "text": [
      "ningappa\n"
     ]
    }
   ],
   "source": [
    "#string (str)\n",
    "\n",
    "#String is collection of characters.\n",
    "#example :\n",
    "    \n",
    "name = \"ningappa\"\n",
    "print(name)"
   ]
  },
  {
   "cell_type": "code",
   "execution_count": 9,
   "id": "319a91cc",
   "metadata": {},
   "outputs": [
    {
     "data": {
      "text/plain": [
       "str"
      ]
     },
     "execution_count": 9,
     "metadata": {},
     "output_type": "execute_result"
    }
   ],
   "source": [
    "#Find data types:\n",
    "#we can use type code and can find the data types.\n",
    "\n",
    "name = 'ningappa'\n",
    "batch = '92'\n",
    "\n",
    "type(name)\n",
    "type(batch)"
   ]
  },
  {
   "cell_type": "code",
   "execution_count": 13,
   "id": "8d42a9fc",
   "metadata": {},
   "outputs": [
    {
     "name": "stdout",
     "output_type": "stream",
     "text": [
      "Ningappa\n",
      "NINGAPPA\n",
      "ningappa\n"
     ]
    }
   ],
   "source": [
    "#change upper case, lower case and tittle.\n",
    "\n",
    "name = \"niNgaPpa\"\n",
    "print(name.title())\n",
    "print(name.upper())\n",
    "print(name.lower())"
   ]
  },
  {
   "cell_type": "code",
   "execution_count": null,
   "id": "32dc8a6d",
   "metadata": {},
   "outputs": [],
   "source": []
  }
 ],
 "metadata": {
  "kernelspec": {
   "display_name": "Python 3 (ipykernel)",
   "language": "python",
   "name": "python3"
  },
  "language_info": {
   "codemirror_mode": {
    "name": "ipython",
    "version": 3
   },
   "file_extension": ".py",
   "mimetype": "text/x-python",
   "name": "python",
   "nbconvert_exporter": "python",
   "pygments_lexer": "ipython3",
   "version": "3.12.3"
  }
 },
 "nbformat": 4,
 "nbformat_minor": 5
}
